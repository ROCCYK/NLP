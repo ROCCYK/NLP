{
  "nbformat": 4,
  "nbformat_minor": 0,
  "metadata": {
    "colab": {
      "provenance": []
    },
    "kernelspec": {
      "name": "python3",
      "display_name": "Python 3"
    },
    "language_info": {
      "name": "python"
    }
  },
  "cells": [
    {
      "cell_type": "code",
      "source": [
        "import numpy as np\n",
        "\n",
        "def initialize(states, observations, start_prob, trans_prob, emit_prob):\n",
        "    num_states = len(states)\n",
        "    num_observations = len(observations)\n",
        "\n",
        "    # Initialize the Viterbi table with zeros\n",
        "    viterbi_table = np.zeros((num_states, num_observations))\n",
        "    # Initialize the path pointer table with zeros\n",
        "    path_pointer = np.zeros((num_states, num_observations), dtype=int)\n",
        "\n",
        "    # Initialize the first column of the Viterbi table\n",
        "    for s, state in enumerate(states):\n",
        "        # Use state as a key to access the dictionaries\n",
        "        viterbi_table[s, 0] = start_prob[state] * emit_prob[state][observations[0]]\n",
        "\n",
        "    return viterbi_table, path_pointer\n",
        "\n",
        "def forward(viterbi_table, path_pointer, states, observations, trans_prob, emit_prob):\n",
        "    num_states = len(states)\n",
        "    num_observations = len(observations)\n",
        "\n",
        "    for t in range(1, num_observations):\n",
        "        for s, state in enumerate(states):\n",
        "            # Compute the max probability for the current state and observation\n",
        "            (max_prob, max_state_index) = max(\n",
        "                (viterbi_table[prev_state_index, t-1] * trans_prob[states[prev_state_index]][state] * emit_prob[state][observations[t]], prev_state_index)\n",
        "                for prev_state_index in range(num_states))\n",
        "\n",
        "            viterbi_table[s, t] = max_prob\n",
        "            path_pointer[s, t] = max_state_index\n",
        "\n",
        "def backtrack(viterbi_table, path_pointer, states, observations):\n",
        "    num_states = len(states)\n",
        "    num_observations = len(observations)\n",
        "\n",
        "    # Initialize the path with the maximum probable last state\n",
        "    path = np.zeros(num_observations, dtype=int)\n",
        "    path[num_observations-1] = np.argmax(viterbi_table[:, num_observations-1])\n",
        "\n",
        "    # Backtrack through the path pointer table\n",
        "    for t in range(num_observations-2, -1, -1):\n",
        "        path[t] = path_pointer[path[t+1], t+1]\n",
        "\n",
        "    return [states[state] for state in path]\n",
        "\n",
        "states = ['Noun', 'Verb']\n",
        "observations = ['They', 'can', 'fish']\n",
        "start_probability = {'Noun': 0.37, 'Verb': 0.14}\n",
        "transition_probability = {\n",
        "   'Noun' : {'Noun': 0.05, 'Verb': 0.37},\n",
        "   'Verb' : {'Noun': 0.37, 'Verb': 0.05},\n",
        "   }\n",
        "emission_probability = {\n",
        "   'Noun' : {'They': 0.14, 'can': 0.05, 'fish': 0.05},\n",
        "   'Verb' : {'They': 0.00004, 'can': 0.37, 'fish': 0.05},\n",
        "}\n",
        "\n",
        "viterbi_table, path_pointer = initialize(states, observations, start_probability, transition_probability, emission_probability)\n",
        "forward(viterbi_table, path_pointer, states, observations, transition_probability, emission_probability)\n",
        "most_probable_path = backtrack(viterbi_table, path_pointer,states,observations)\n"
      ],
      "metadata": {
        "id": "uEn_vnkLdWwM"
      },
      "execution_count": null,
      "outputs": []
    },
    {
      "cell_type": "code",
      "source": [
        "most_probable_path"
      ],
      "metadata": {
        "colab": {
          "base_uri": "https://localhost:8080/"
        },
        "id": "dS1MW55kiOPS",
        "outputId": "8ea04f58-ba51-43fe-a17b-e1e1224979aa"
      },
      "execution_count": null,
      "outputs": [
        {
          "output_type": "execute_result",
          "data": {
            "text/plain": [
              "['Noun', 'Verb', 'Noun']"
            ]
          },
          "metadata": {},
          "execution_count": 14
        }
      ]
    },
    {
      "cell_type": "code",
      "source": [
        "np.log(viterbi_table)"
      ],
      "metadata": {
        "colab": {
          "base_uri": "https://localhost:8080/"
        },
        "id": "-C_ayauhjVZS",
        "outputId": "04ce3916-3967-416a-f13d-17cdc572ccd7"
      },
      "execution_count": null,
      "outputs": [
        {
          "output_type": "execute_result",
          "data": {
            "text/plain": [
              "array([[ -2.96036513,  -8.95182968,  -8.93885422],\n",
              "       [-12.09274396,  -4.94886968, -10.94033422]])"
            ]
          },
          "metadata": {},
          "execution_count": 18
        }
      ]
    },
    {
      "cell_type": "code",
      "source": [
        "np.round(np.log(viterbi_table))"
      ],
      "metadata": {
        "colab": {
          "base_uri": "https://localhost:8080/"
        },
        "id": "I4h6O9g9kOpC",
        "outputId": "f679a404-972d-48c3-b47e-4242de049296"
      },
      "execution_count": null,
      "outputs": [
        {
          "output_type": "execute_result",
          "data": {
            "text/plain": [
              "array([[ -3.,  -9.,  -9.],\n",
              "       [-12.,  -5., -11.]])"
            ]
          },
          "metadata": {},
          "execution_count": 19
        }
      ]
    }
  ]
}