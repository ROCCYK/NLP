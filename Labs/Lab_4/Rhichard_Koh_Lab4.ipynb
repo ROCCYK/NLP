{
 "cells": [
  {
   "cell_type": "markdown",
   "id": "e2ba307f-3625-4059-a12d-21ed2d4d79fe",
   "metadata": {},
   "source": [
    "# Natural Language Processing\n",
    "# Lab #4\n",
    "# Rhichard Koh"
   ]
  },
  {
   "cell_type": "markdown",
   "id": "3b087e49-a8cc-41ab-9a5a-7333c2702922",
   "metadata": {
    "tags": []
   },
   "source": [
    "## Multinomial Naive Bayes from SKlearn"
   ]
  },
  {
   "cell_type": "code",
   "execution_count": 1,
   "id": "4333db36-8542-49a6-9d93-45a8e6c1f892",
   "metadata": {},
   "outputs": [
    {
     "name": "stdout",
     "output_type": "stream",
     "text": [
      "Accuracy: 0.976063829787234\n"
     ]
    }
   ],
   "source": [
    "from sklearn.datasets import fetch_20newsgroups\n",
    "from sklearn.feature_extraction.text import CountVectorizer\n",
    "from sklearn.model_selection import train_test_split\n",
    "from sklearn.naive_bayes import MultinomialNB\n",
    "from sklearn.metrics import accuracy_score\n",
    "\n",
    "# Load the 20 Newsgroups dataset\n",
    "categories = ['alt.atheism', 'soc.religion.christian', 'comp.graphics', 'sci.med']\n",
    "newsgroups_data = fetch_20newsgroups(subset='all', categories=categories, shuffle=True, random_state=42)\n",
    "\n",
    "# Split the dataset into training and testing sets\n",
    "X_train, X_test, y_train, y_test = train_test_split(\n",
    "    newsgroups_data.data, newsgroups_data.target, test_size=0.2, random_state=42)\n",
    "\n",
    "# Create a CountVectorizer to convert text into token counts\n",
    "vectorizer = CountVectorizer(stop_words='english')\n",
    "\n",
    "# Fit and transform the training data\n",
    "X_train_counts = vectorizer.fit_transform(X_train)\n",
    "\n",
    "# Transform the testing data\n",
    "X_test_counts = vectorizer.transform(X_test)\n",
    "\n",
    "# Initialize and train a Naive Bayes classifier (MultinomialNB)\n",
    "classifier = MultinomialNB()\n",
    "classifier.fit(X_train_counts, y_train)\n",
    "\n",
    "# Predict the labels of the test set\n",
    "y_pred = classifier.predict(X_test_counts)\n",
    "\n",
    "# Evaluate the classifier\n",
    "accuracy = accuracy_score(y_test, y_pred)\n",
    "print(\"Accuracy:\", accuracy)"
   ]
  },
  {
   "cell_type": "markdown",
   "id": "505491ab-db46-46fd-be52-2464b3adc764",
   "metadata": {
    "tags": []
   },
   "source": [
    "## Multinomial Naive Bayes from scratch"
   ]
  },
  {
   "cell_type": "code",
   "execution_count": 28,
   "id": "370748fe-2036-4aa2-bfb8-bca836eb7d5f",
   "metadata": {
    "tags": []
   },
   "outputs": [],
   "source": [
    "import numpy as np\n",
    "\n",
    "class RK_Naive_Bayes:\n",
    "    def __init__(self):\n",
    "        self.class_log_prior_ = None\n",
    "        self.feature_log_prob_ = None\n",
    "        self.classes_ = None\n",
    "\n",
    "    def fit(self, X, y):\n",
    "        # Count the number of documents in each class\n",
    "        unique_y = np.unique(y)\n",
    "        self.classes_ = unique_y\n",
    "        class_counts = np.array([len(y[y == yi]) for yi in unique_y])\n",
    "        self.class_log_prior_ = np.log(class_counts / len(y))\n",
    "\n",
    "        # Count the frequency of each feature in each class\n",
    "        feature_counts = np.zeros((len(unique_y), X.shape[1]))\n",
    "        for i, yi in enumerate(unique_y):\n",
    "            feature_counts[i, :] = X[y == yi].sum(axis=0)\n",
    "        smoothed_fc = feature_counts + 1  # Laplace smoothing\n",
    "        smoothed_cc = smoothed_fc.sum(axis=1).reshape(-1, 1)\n",
    "        self.feature_log_prob_ = np.log(smoothed_fc / smoothed_cc)\n",
    "\n",
    "    def predict_log_proba(self, X):\n",
    "        return (X @ self.feature_log_prob_.T) + self.class_log_prior_\n",
    "\n",
    "    def predict(self, X):\n",
    "        log_probs = self.predict_log_proba(X)\n",
    "        return self.classes_[np.argmax(log_probs, axis=1)]\n",
    "    \n",
    "    def score(self, X_test, y_test):\n",
    "        y_pred = self.predict(X_test)\n",
    "        return np.sum(y_pred == y_test)/len(y_test)"
   ]
  },
  {
   "cell_type": "code",
   "execution_count": 29,
   "id": "efd81c7e-da29-47e1-a2ae-04be2868a569",
   "metadata": {
    "tags": []
   },
   "outputs": [
    {
     "name": "stdout",
     "output_type": "stream",
     "text": [
      "Accuracy: 0.976063829787234\n"
     ]
    }
   ],
   "source": [
    "model = RK_Naive_Bayes()\n",
    "model.fit(X_train_counts, y_train)\n",
    "\n",
    "accuracy = model.score(X_test_counts, y_test)\n",
    "print(\"Accuracy:\", accuracy)"
   ]
  },
  {
   "cell_type": "markdown",
   "id": "d1b8c8d2-2b04-430e-9101-8548b5bff9ec",
   "metadata": {
    "tags": []
   },
   "source": [
    "## Logistic Regression from SKlearn using Count Vectorizer"
   ]
  },
  {
   "cell_type": "code",
   "execution_count": 30,
   "id": "9afede1d-9f53-466b-bc00-177a22cd82e3",
   "metadata": {
    "tags": []
   },
   "outputs": [
    {
     "name": "stdout",
     "output_type": "stream",
     "text": [
      "Accuracy: 0.9694148936170213\n"
     ]
    }
   ],
   "source": [
    "from sklearn.datasets import fetch_20newsgroups\n",
    "from sklearn.feature_extraction.text import CountVectorizer\n",
    "from sklearn.model_selection import train_test_split\n",
    "from sklearn.linear_model import LogisticRegression\n",
    "from sklearn.metrics import accuracy_score\n",
    "\n",
    "# Load the 20 Newsgroups dataset\n",
    "categories = ['alt.atheism', 'soc.religion.christian', 'comp.graphics', 'sci.med']\n",
    "newsgroups_data = fetch_20newsgroups(subset='all', categories=categories, shuffle=True, random_state=42)\n",
    "\n",
    "# Split the dataset into training and testing sets\n",
    "X_train, X_test, y_train, y_test = train_test_split(\n",
    "    newsgroups_data.data, newsgroups_data.target, test_size=0.2, random_state=42)\n",
    "\n",
    "# Create a CountVectorizer to convert text into token counts\n",
    "vectorizer = CountVectorizer(stop_words='english')\n",
    "\n",
    "# Fit and transform the training data\n",
    "X_train_counts = vectorizer.fit_transform(X_train)\n",
    "\n",
    "# Transform the testing data\n",
    "X_test_counts = vectorizer.transform(X_test)\n",
    "\n",
    "# Initialize and train a classifier (e.g., Logistic Regression)\n",
    "classifier = LogisticRegression(max_iter=1000)\n",
    "classifier.fit(X_train_counts, y_train)\n",
    "\n",
    "# Predict the labels of the test set\n",
    "y_pred = classifier.predict(X_test_counts)\n",
    "\n",
    "# Evaluate the classifier\n",
    "accuracy = accuracy_score(y_test, y_pred)\n",
    "print(\"Accuracy:\", accuracy)"
   ]
  },
  {
   "cell_type": "markdown",
   "id": "18c2ab0b-b3ce-4c49-945e-a0eda17b1255",
   "metadata": {
    "tags": []
   },
   "source": [
    "## Logistic Regression from SKlearn using Tfidf Vectorizer"
   ]
  },
  {
   "cell_type": "code",
   "execution_count": 31,
   "id": "0643da28-39cc-46d4-a6c5-154f2425b885",
   "metadata": {
    "tags": []
   },
   "outputs": [
    {
     "name": "stdout",
     "output_type": "stream",
     "text": [
      "Accuracy: 0.964095744680851\n"
     ]
    }
   ],
   "source": [
    "from sklearn.feature_extraction.text import TfidfVectorizer\n",
    "\n",
    "vectorizer = TfidfVectorizer(stop_words='english')\n",
    "X_train_counts = vectorizer.fit_transform(X_train)\n",
    "X_test_counts = vectorizer.transform(X_test)\n",
    "\n",
    "# Initialize and train a classifier (e.g., Logistic Regression)\n",
    "classifier = LogisticRegression(max_iter=1000)\n",
    "classifier.fit(X_train_counts, y_train)\n",
    "\n",
    "# Predict the labels of the test set\n",
    "y_pred = classifier.predict(X_test_counts)\n",
    "\n",
    "# Evaluate the classifier\n",
    "accuracy = accuracy_score(y_test, y_pred)\n",
    "print(\"Accuracy:\", accuracy)"
   ]
  }
 ],
 "metadata": {
  "kernelspec": {
   "display_name": "Python 3 (ipykernel)",
   "language": "python",
   "name": "python3"
  },
  "language_info": {
   "codemirror_mode": {
    "name": "ipython",
    "version": 3
   },
   "file_extension": ".py",
   "mimetype": "text/x-python",
   "name": "python",
   "nbconvert_exporter": "python",
   "pygments_lexer": "ipython3",
   "version": "3.11.4"
  }
 },
 "nbformat": 4,
 "nbformat_minor": 5
}
